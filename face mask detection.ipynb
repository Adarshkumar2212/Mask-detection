{
 "cells": [
  {
   "cell_type": "code",
   "execution_count": 2,
   "id": "e0426ae2",
   "metadata": {},
   "outputs": [
    {
     "name": "stdout",
     "output_type": "stream",
     "text": [
      "{'with mask': 0, 'without mask': 1}\n",
      "['with mask', 'without mask']\n",
      "[0, 1]\n"
     ]
    }
   ],
   "source": [
    "import cv2,os\n",
    "\n",
    "data_path='dataset'\n",
    "categories=os.listdir(data_path)\n",
    "labels=[i for i in range(len(categories))]\n",
    "\n",
    "label_dict=dict(zip(categories,labels)) #empty dictionary\n",
    "\n",
    "print(label_dict)\n",
    "print(categories)\n",
    "print(labels)"
   ]
  },
  {
   "cell_type": "code",
   "execution_count": 3,
   "id": "a5688c44",
   "metadata": {},
   "outputs": [],
   "source": [
    "img_size=100\n",
    "data=[]\n",
    "target=[]\n",
    "\n",
    "\n",
    "for category in categories:\n",
    "    folder_path=os.path.join(data_path,category)\n",
    "    img_names=os.listdir(folder_path)\n",
    "        \n",
    "    for img_name in img_names:\n",
    "        img_path=os.path.join(folder_path,img_name)\n",
    "        img=cv2.imread(img_path)\n",
    "\n",
    "        try:\n",
    "            gray=cv2.cvtColor(img,cv2.COLOR_BGR2GRAY)           \n",
    "            #Coverting the image into gray scale\n",
    "            resized=cv2.resize(gray,(img_size,img_size))\n",
    "            #resizing the gray scale into 50x50, since we need a fixed common size for all the images in the dataset\n",
    "            data.append(resized)\n",
    "            target.append(label_dict[category])\n",
    "            #appending the image and the label(categorized) into the list (dataset)\n",
    "\n",
    "        except Exception as e:\n",
    "            print('Exception:',e)\n",
    "            #if any exception rasied, the exception will be printed here. And pass to the next image"
   ]
  },
  {
   "cell_type": "code",
   "execution_count": 4,
   "id": "0d86d664",
   "metadata": {},
   "outputs": [],
   "source": [
    "import numpy as np\n",
    "\n",
    "data=np.array(data)/255.0\n",
    "data=np.reshape(data,(data.shape[0],img_size,img_size,1))\n",
    "target=np.array(target)\n",
    "\n",
    "from keras.utils import np_utils\n",
    "\n",
    "new_target=np_utils.to_categorical(target)"
   ]
  },
  {
   "cell_type": "code",
   "execution_count": 5,
   "id": "0cc30296",
   "metadata": {},
   "outputs": [],
   "source": [
    "np.save('data',data)\n",
    "np.save('target',new_target)"
   ]
  },
  {
   "cell_type": "code",
   "execution_count": 6,
   "id": "1472be19",
   "metadata": {},
   "outputs": [],
   "source": [
    "import numpy as np\n",
    "\n",
    "data=np.load('data.npy')\n",
    "target=np.load('target.npy')\n",
    "\n",
    "#loading the save numpy arrays in the previous code"
   ]
  },
  {
   "cell_type": "code",
   "execution_count": 7,
   "id": "b014ac74",
   "metadata": {},
   "outputs": [],
   "source": [
    "from keras.models import Sequential\n",
    "from keras.layers import Dense,Activation,Flatten,Dropout\n",
    "from keras.layers import Conv2D,MaxPooling2D\n",
    "from keras.callbacks import ModelCheckpoint\n",
    "\n",
    "model=Sequential()\n",
    "\n",
    "model.add(Conv2D(200,(3,3),input_shape=data.shape[1:]))\n",
    "model.add(Activation('relu'))\n",
    "model.add(MaxPooling2D(pool_size=(2,2)))\n",
    "#The first CNN layer followed by Relu and MaxPooling layers\n",
    "\n",
    "model.add(Conv2D(100,(3,3)))\n",
    "model.add(Activation('relu'))\n",
    "model.add(MaxPooling2D(pool_size=(2,2)))\n",
    "#The second convolution layer followed by Relu and MaxPooling layers\n",
    "\n",
    "model.add(Flatten())\n",
    "model.add(Dropout(0.5))\n",
    "#Flatten layer to stack the output convolutions from second convolution layer\n",
    "model.add(Dense(50,activation='relu'))\n",
    "#Dense layer of 64 neurons\n",
    "model.add(Dense(2,activation='softmax'))\n",
    "#The Final layer with two outputs for two categories\n",
    "\n",
    "model.compile(loss='categorical_crossentropy',optimizer='adam',metrics=['accuracy'])"
   ]
  },
  {
   "cell_type": "code",
   "execution_count": 8,
   "id": "74b8ffb3",
   "metadata": {},
   "outputs": [],
   "source": [
    "from sklearn.model_selection import train_test_split\n",
    "\n",
    "train_data,test_data,train_target,test_target=train_test_split(data,target,test_size=0.1)"
   ]
  },
  {
   "cell_type": "code",
   "execution_count": 9,
   "id": "3fdd9af2",
   "metadata": {},
   "outputs": [
    {
     "name": "stdout",
     "output_type": "stream",
     "text": [
      "Epoch 1/20\n",
      "31/31 [==============================] - ETA: 0s - loss: 0.7292 - accuracy: 0.5365INFO:tensorflow:Assets written to: model-001.model\\assets\n",
      "31/31 [==============================] - 60s 2s/step - loss: 0.7292 - accuracy: 0.5365 - val_loss: 0.6283 - val_accuracy: 0.6032\n",
      "Epoch 2/20\n",
      "31/31 [==============================] - ETA: 0s - loss: 0.5262 - accuracy: 0.7302INFO:tensorflow:Assets written to: model-002.model\\assets\n",
      "31/31 [==============================] - 57s 2s/step - loss: 0.5262 - accuracy: 0.7302 - val_loss: 0.4606 - val_accuracy: 0.7935\n",
      "Epoch 3/20\n",
      "31/31 [==============================] - ETA: 0s - loss: 0.3734 - accuracy: 0.8387INFO:tensorflow:Assets written to: model-003.model\\assets\n",
      "31/31 [==============================] - 55s 2s/step - loss: 0.3734 - accuracy: 0.8387 - val_loss: 0.3555 - val_accuracy: 0.8340\n",
      "Epoch 4/20\n",
      "31/31 [==============================] - ETA: 0s - loss: 0.2741 - accuracy: 0.8895INFO:tensorflow:Assets written to: model-004.model\\assets\n",
      "31/31 [==============================] - 56s 2s/step - loss: 0.2741 - accuracy: 0.8895 - val_loss: 0.2292 - val_accuracy: 0.9150\n",
      "Epoch 5/20\n",
      "31/31 [==============================] - ETA: 0s - loss: 0.1711 - accuracy: 0.9361INFO:tensorflow:Assets written to: model-005.model\\assets\n",
      "31/31 [==============================] - 53s 2s/step - loss: 0.1711 - accuracy: 0.9361 - val_loss: 0.1888 - val_accuracy: 0.9271\n",
      "Epoch 6/20\n",
      "31/31 [==============================] - 52s 2s/step - loss: 0.1261 - accuracy: 0.9544 - val_loss: 0.2872 - val_accuracy: 0.8866\n",
      "Epoch 7/20\n",
      "31/31 [==============================] - 52s 2s/step - loss: 0.1076 - accuracy: 0.9655 - val_loss: 0.2017 - val_accuracy: 0.9271\n",
      "Epoch 8/20\n",
      "31/31 [==============================] - ETA: 0s - loss: 0.0664 - accuracy: 0.9777INFO:tensorflow:Assets written to: model-008.model\\assets\n",
      "31/31 [==============================] - 52s 2s/step - loss: 0.0664 - accuracy: 0.9777 - val_loss: 0.1768 - val_accuracy: 0.9474\n",
      "Epoch 9/20\n",
      "31/31 [==============================] - 50s 2s/step - loss: 0.0834 - accuracy: 0.9706 - val_loss: 0.2000 - val_accuracy: 0.9109\n",
      "Epoch 10/20\n",
      "31/31 [==============================] - 50s 2s/step - loss: 0.0862 - accuracy: 0.9696 - val_loss: 0.2301 - val_accuracy: 0.8988\n",
      "Epoch 11/20\n",
      "31/31 [==============================] - ETA: 0s - loss: 0.0520 - accuracy: 0.9797INFO:tensorflow:Assets written to: model-011.model\\assets\n",
      "31/31 [==============================] - 57s 2s/step - loss: 0.0520 - accuracy: 0.9797 - val_loss: 0.1757 - val_accuracy: 0.9393\n",
      "Epoch 12/20\n",
      "31/31 [==============================] - ETA: 0s - loss: 0.0466 - accuracy: 0.9838INFO:tensorflow:Assets written to: model-012.model\\assets\n",
      "31/31 [==============================] - 52s 2s/step - loss: 0.0466 - accuracy: 0.9838 - val_loss: 0.1586 - val_accuracy: 0.9352\n",
      "Epoch 13/20\n",
      "31/31 [==============================] - ETA: 0s - loss: 0.0417 - accuracy: 0.9899INFO:tensorflow:Assets written to: model-013.model\\assets\n",
      "31/31 [==============================] - 53s 2s/step - loss: 0.0417 - accuracy: 0.9899 - val_loss: 0.1338 - val_accuracy: 0.9514\n",
      "Epoch 14/20\n",
      "31/31 [==============================] - 50s 2s/step - loss: 0.0298 - accuracy: 0.9888 - val_loss: 0.1510 - val_accuracy: 0.9555\n",
      "Epoch 15/20\n",
      "31/31 [==============================] - 50s 2s/step - loss: 0.0333 - accuracy: 0.9878 - val_loss: 0.1766 - val_accuracy: 0.9271\n",
      "Epoch 16/20\n",
      "31/31 [==============================] - 50s 2s/step - loss: 0.0281 - accuracy: 0.9919 - val_loss: 0.1476 - val_accuracy: 0.9433\n",
      "Epoch 17/20\n",
      "31/31 [==============================] - 50s 2s/step - loss: 0.0218 - accuracy: 0.9888 - val_loss: 0.1939 - val_accuracy: 0.9555\n",
      "Epoch 18/20\n",
      "31/31 [==============================] - 50s 2s/step - loss: 0.0295 - accuracy: 0.9919 - val_loss: 0.1761 - val_accuracy: 0.9514\n",
      "Epoch 19/20\n",
      "31/31 [==============================] - 50s 2s/step - loss: 0.0199 - accuracy: 0.9919 - val_loss: 0.1504 - val_accuracy: 0.9474\n",
      "Epoch 20/20\n",
      "31/31 [==============================] - 51s 2s/step - loss: 0.0181 - accuracy: 0.9939 - val_loss: 0.2565 - val_accuracy: 0.9271\n"
     ]
    }
   ],
   "source": [
    "checkpoint = ModelCheckpoint('model-{epoch:03d}.model',monitor='val_loss',verbose=0,save_best_only=True,mode='auto')\n",
    "history=model.fit(train_data,train_target,epochs=20,callbacks=[checkpoint],validation_split=0.2)"
   ]
  },
  {
   "cell_type": "code",
   "execution_count": 10,
   "id": "1473d963",
   "metadata": {},
   "outputs": [
    {
     "data": {
      "image/png": "[encoded data removed]",
      "text/plain": [
       "<Figure size 432x288 with 1 Axes>"
      ]
     },
     "metadata": {
      "needs_background": "light"
     },
     "output_type": "display_data"
    }
   ],
   "source": [
    "from matplotlib import pyplot as plt\n",
    "\n",
    "plt.plot(history.history['loss'],'r',label='training loss')\n",
    "plt.plot(history.history['val_loss'],label='validation loss')\n",
    "plt.xlabel('# epochs')\n",
    "plt.ylabel('loss')\n",
    "plt.legend()\n",
    "plt.show()"
   ]
  },
  {
   "cell_type": "code",
   "execution_count": 11,
   "id": "f5ded0da",
   "metadata": {},
   "outputs": [
    {
     "data": {
      "image/png": "[encoded data removed]",
      "text/plain": [
       "<Figure size 432x288 with 1 Axes>"
      ]
     },
     "metadata": {
      "needs_background": "light"
     },
     "output_type": "display_data"
    }
   ],
   "source": [
    "plt.plot(history.history['accuracy'],'r',label='training accuracy')\n",
    "plt.plot(history.history['val_accuracy'],label='validation accuracy')\n",
    "plt.xlabel('# epochs')\n",
    "plt.ylabel('loss')\n",
    "plt.legend()\n",
    "plt.show()"
   ]
  },
  {
   "cell_type": "code",
   "execution_count": 12,
   "id": "06a4cde2",
   "metadata": {},
   "outputs": [
    {
     "name": "stdout",
     "output_type": "stream",
     "text": [
      "5/5 [==============================] - 2s 378ms/step - loss: 0.2726 - accuracy: 0.9416\n",
      "[0.2725915312767029, 0.9416058659553528]\n"
     ]
    }
   ],
   "source": [
    "print(model.evaluate(test_data,test_target))"
   ]
  },
  {
   "cell_type": "code",
   "execution_count": 13,
   "id": "299316be",
   "metadata": {},
   "outputs": [],
   "source": [
    "from keras.models import load_model\n",
    "import cv2\n",
    "import numpy as np"
   ]
  },
  {
   "cell_type": "code",
   "execution_count": 14,
   "id": "feb73d4b",
   "metadata": {},
   "outputs": [],
   "source": [
    "model = load_model('model-017.model')\n",
    "\n",
    "face_clsfr=cv2.CascadeClassifier('haarcascade_frontalface_default.xml')\n",
    "\n",
    "source=cv2.VideoCapture(0)\n",
    "\n",
    "labels_dict={0:'MASK',1:'NO MASK'}\n",
    "color_dict={0:(0,255,0),1:(0,0,255)}"
   ]
  },
  {
   "cell_type": "code",
   "execution_count": null,
   "id": "4ef8c788",
   "metadata": {},
   "outputs": [],
   "source": [
    "while(True):\n",
    "\n",
    "    ret,img=source.read()\n",
    "    gray=cv2.cvtColor(img,cv2.COLOR_BGR2GRAY)\n",
    "    faces=face_clsfr.detectMultiScale(gray,1.3,5)  \n",
    "\n",
    "    for (x,y,w,h) in faces:\n",
    "    \n",
    "        face_img=gray[y:y+w,x:x+w]\n",
    "        resized=cv2.resize(face_img,(100,100))\n",
    "        normalized=resized/255.0\n",
    "        reshaped=np.reshape(normalized,(1,100,100,1))\n",
    "        result=model.predict(reshaped)\n",
    "\n",
    "        label=np.argmax(result,axis=1)[0]\n",
    "      \n",
    "        cv2.rectangle(img,(x,y),(x+w,y+h),color_dict[label],2)\n",
    "        cv2.rectangle(img,(x,y-40),(x+w,y),color_dict[label],-1)\n",
    "        cv2.putText(img, labels_dict[label], (x, y-10),cv2.FONT_HERSHEY_SIMPLEX,0.8,(255,255,255),2)\n",
    "        \n",
    "        \n",
    "    cv2.imshow('LIVE',img)\n",
    "    key=cv2.waitKey(1)\n",
    "    \n",
    "    if(key==27):\n",
    "        break\n",
    "        \n",
    "cv2.destroyAllWindows()\n",
    "source.release()"
   ]
  },
  {
   "cell_type": "code",
   "execution_count": null,
   "id": "f526d6c3",
   "metadata": {},
   "outputs": [],
   "source": []
  }
 ],
 "metadata": {
  "kernelspec": {
   "display_name": "Python 3",
   "language": "python",
   "name": "python3"
  },
  "language_info": {
   "codemirror_mode": {
    "name": "ipython",
    "version": 3
   },
   "file_extension": ".py",
   "mimetype": "text/x-python",
   "name": "python",
   "nbconvert_exporter": "python",
   "pygments_lexer": "ipython3",
   "version": "3.8.8"
  }
 },
 "nbformat": 4,
 "nbformat_minor": 5
}
